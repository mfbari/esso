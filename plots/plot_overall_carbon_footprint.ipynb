{
 "cells": [
  {
   "cell_type": "code",
   "execution_count": 162,
   "metadata": {},
   "outputs": [],
   "source": [
    "import itertools\n",
    "import pandas as pd\n",
    "import numpy as np\n",
    "import matplotlib.pyplot as plt\n",
    "import matplotlib.ticker as ticker\n",
    "import seaborn as sns\n",
    "%matplotlib inline"
   ]
  },
  {
   "cell_type": "code",
   "execution_count": 158,
   "metadata": {},
   "outputs": [],
   "source": [
    "sns.set(style=\"whitegrid\")\n",
    "color_palette = ['Red', 'Black', 'Blue']\n",
    "figsize=(12,6)"
   ]
  },
  {
   "cell_type": "code",
   "execution_count": 5,
   "metadata": {},
   "outputs": [],
   "source": [
    "dataset_name = '13129_0.5_0.003'\n",
    "\n",
    "opt_prefixes = ['c_', 'h_']#, 'f_']\n",
    "\n",
    "for opt in opt_prefixes:\n",
    "    exec(opt + 'tsdf = pd.read_csv(' + '\"../runs/' + opt + dataset_name + '/timeslot_data.csv' + '\")' )\n",
    "    exec(opt + 'sfcdf = pd.read_csv(' + '\"../runs/' + opt + dataset_name + '/sfc_data.csv' + '\")' )"
   ]
  },
  {
   "cell_type": "code",
   "execution_count": 6,
   "metadata": {
    "scrolled": false
   },
   "outputs": [
    {
     "data": {
      "text/html": [
       "<div>\n",
       "<style scoped>\n",
       "    .dataframe tbody tr th:only-of-type {\n",
       "        vertical-align: middle;\n",
       "    }\n",
       "\n",
       "    .dataframe tbody tr th {\n",
       "        vertical-align: top;\n",
       "    }\n",
       "\n",
       "    .dataframe thead th {\n",
       "        text-align: right;\n",
       "    }\n",
       "</style>\n",
       "<table border=\"1\" class=\"dataframe\">\n",
       "  <thead>\n",
       "    <tr style=\"text-align: right;\">\n",
       "      <th></th>\n",
       "      <th>timeslot</th>\n",
       "      <th>carbon_footprint</th>\n",
       "      <th>brown_energy</th>\n",
       "      <th>green_energy</th>\n",
       "      <th>acceptance_ratio</th>\n",
       "      <th>migration_count</th>\n",
       "      <th>ps_min</th>\n",
       "      <th>ps_5th</th>\n",
       "      <th>ps_mean</th>\n",
       "      <th>ps_95th</th>\n",
       "      <th>ps_max</th>\n",
       "    </tr>\n",
       "  </thead>\n",
       "  <tbody>\n",
       "    <tr>\n",
       "      <th>0</th>\n",
       "      <td>0</td>\n",
       "      <td>0.000</td>\n",
       "      <td>0.000</td>\n",
       "      <td>0.000</td>\n",
       "      <td>100.0</td>\n",
       "      <td>0</td>\n",
       "      <td>13.0</td>\n",
       "      <td>13.0</td>\n",
       "      <td>17.142857</td>\n",
       "      <td>22.35</td>\n",
       "      <td>23.0</td>\n",
       "    </tr>\n",
       "    <tr>\n",
       "      <th>1</th>\n",
       "      <td>1</td>\n",
       "      <td>31.494</td>\n",
       "      <td>26.889</td>\n",
       "      <td>47.410</td>\n",
       "      <td>100.0</td>\n",
       "      <td>0</td>\n",
       "      <td>14.0</td>\n",
       "      <td>14.0</td>\n",
       "      <td>16.250000</td>\n",
       "      <td>19.00</td>\n",
       "      <td>19.0</td>\n",
       "    </tr>\n",
       "    <tr>\n",
       "      <th>2</th>\n",
       "      <td>2</td>\n",
       "      <td>34.974</td>\n",
       "      <td>29.715</td>\n",
       "      <td>52.853</td>\n",
       "      <td>100.0</td>\n",
       "      <td>0</td>\n",
       "      <td>15.0</td>\n",
       "      <td>15.0</td>\n",
       "      <td>18.125000</td>\n",
       "      <td>21.65</td>\n",
       "      <td>22.0</td>\n",
       "    </tr>\n",
       "    <tr>\n",
       "      <th>3</th>\n",
       "      <td>3</td>\n",
       "      <td>44.470</td>\n",
       "      <td>38.840</td>\n",
       "      <td>53.546</td>\n",
       "      <td>100.0</td>\n",
       "      <td>0</td>\n",
       "      <td>16.0</td>\n",
       "      <td>16.7</td>\n",
       "      <td>19.733333</td>\n",
       "      <td>21.90</td>\n",
       "      <td>24.0</td>\n",
       "    </tr>\n",
       "    <tr>\n",
       "      <th>4</th>\n",
       "      <td>4</td>\n",
       "      <td>68.110</td>\n",
       "      <td>60.433</td>\n",
       "      <td>67.956</td>\n",
       "      <td>100.0</td>\n",
       "      <td>0</td>\n",
       "      <td>14.0</td>\n",
       "      <td>14.5</td>\n",
       "      <td>18.181818</td>\n",
       "      <td>22.50</td>\n",
       "      <td>23.0</td>\n",
       "    </tr>\n",
       "  </tbody>\n",
       "</table>\n",
       "</div>"
      ],
      "text/plain": [
       "   timeslot  carbon_footprint  brown_energy  green_energy  acceptance_ratio  \\\n",
       "0         0             0.000         0.000         0.000             100.0   \n",
       "1         1            31.494        26.889        47.410             100.0   \n",
       "2         2            34.974        29.715        52.853             100.0   \n",
       "3         3            44.470        38.840        53.546             100.0   \n",
       "4         4            68.110        60.433        67.956             100.0   \n",
       "\n",
       "   migration_count  ps_min  ps_5th    ps_mean  ps_95th  ps_max  \n",
       "0                0    13.0    13.0  17.142857    22.35    23.0  \n",
       "1                0    14.0    14.0  16.250000    19.00    19.0  \n",
       "2                0    15.0    15.0  18.125000    21.65    22.0  \n",
       "3                0    16.0    16.7  19.733333    21.90    24.0  \n",
       "4                0    14.0    14.5  18.181818    22.50    23.0  "
      ]
     },
     "execution_count": 6,
     "metadata": {},
     "output_type": "execute_result"
    }
   ],
   "source": [
    "c_tsdf.head()"
   ]
  },
  {
   "cell_type": "code",
   "execution_count": 12,
   "metadata": {},
   "outputs": [
    {
     "data": {
      "text/html": [
       "<div>\n",
       "<style scoped>\n",
       "    .dataframe tbody tr th:only-of-type {\n",
       "        vertical-align: middle;\n",
       "    }\n",
       "\n",
       "    .dataframe tbody tr th {\n",
       "        vertical-align: top;\n",
       "    }\n",
       "\n",
       "    .dataframe thead th {\n",
       "        text-align: right;\n",
       "    }\n",
       "</style>\n",
       "<table border=\"1\" class=\"dataframe\">\n",
       "  <thead>\n",
       "    <tr style=\"text-align: right;\">\n",
       "      <th></th>\n",
       "      <th>timeslot</th>\n",
       "      <th>carbon_footprint</th>\n",
       "      <th>brown_energy</th>\n",
       "      <th>green_energy</th>\n",
       "      <th>acceptance_ratio</th>\n",
       "      <th>migration_count</th>\n",
       "      <th>ps_min</th>\n",
       "      <th>ps_5th</th>\n",
       "      <th>ps_mean</th>\n",
       "      <th>ps_95th</th>\n",
       "      <th>ps_max</th>\n",
       "    </tr>\n",
       "  </thead>\n",
       "  <tbody>\n",
       "    <tr>\n",
       "      <th>0</th>\n",
       "      <td>0</td>\n",
       "      <td>0.000</td>\n",
       "      <td>0.000</td>\n",
       "      <td>0.000</td>\n",
       "      <td>100.0</td>\n",
       "      <td>0</td>\n",
       "      <td>13.0</td>\n",
       "      <td>13.0</td>\n",
       "      <td>16.000000</td>\n",
       "      <td>20.00</td>\n",
       "      <td>20.0</td>\n",
       "    </tr>\n",
       "    <tr>\n",
       "      <th>1</th>\n",
       "      <td>1</td>\n",
       "      <td>39.081</td>\n",
       "      <td>32.308</td>\n",
       "      <td>29.385</td>\n",
       "      <td>100.0</td>\n",
       "      <td>0</td>\n",
       "      <td>14.0</td>\n",
       "      <td>14.0</td>\n",
       "      <td>15.875000</td>\n",
       "      <td>18.65</td>\n",
       "      <td>19.0</td>\n",
       "    </tr>\n",
       "    <tr>\n",
       "      <th>2</th>\n",
       "      <td>2</td>\n",
       "      <td>52.053</td>\n",
       "      <td>41.957</td>\n",
       "      <td>26.764</td>\n",
       "      <td>100.0</td>\n",
       "      <td>0</td>\n",
       "      <td>13.0</td>\n",
       "      <td>13.7</td>\n",
       "      <td>16.500000</td>\n",
       "      <td>19.65</td>\n",
       "      <td>20.0</td>\n",
       "    </tr>\n",
       "    <tr>\n",
       "      <th>3</th>\n",
       "      <td>3</td>\n",
       "      <td>67.134</td>\n",
       "      <td>56.194</td>\n",
       "      <td>25.613</td>\n",
       "      <td>100.0</td>\n",
       "      <td>0</td>\n",
       "      <td>15.0</td>\n",
       "      <td>15.0</td>\n",
       "      <td>17.733333</td>\n",
       "      <td>20.00</td>\n",
       "      <td>20.0</td>\n",
       "    </tr>\n",
       "    <tr>\n",
       "      <th>4</th>\n",
       "      <td>4</td>\n",
       "      <td>113.349</td>\n",
       "      <td>95.657</td>\n",
       "      <td>23.904</td>\n",
       "      <td>100.0</td>\n",
       "      <td>0</td>\n",
       "      <td>14.0</td>\n",
       "      <td>14.0</td>\n",
       "      <td>16.636364</td>\n",
       "      <td>19.50</td>\n",
       "      <td>20.0</td>\n",
       "    </tr>\n",
       "  </tbody>\n",
       "</table>\n",
       "</div>"
      ],
      "text/plain": [
       "   timeslot  carbon_footprint  brown_energy  green_energy  acceptance_ratio  \\\n",
       "0         0             0.000         0.000         0.000             100.0   \n",
       "1         1            39.081        32.308        29.385             100.0   \n",
       "2         2            52.053        41.957        26.764             100.0   \n",
       "3         3            67.134        56.194        25.613             100.0   \n",
       "4         4           113.349        95.657        23.904             100.0   \n",
       "\n",
       "   migration_count  ps_min  ps_5th    ps_mean  ps_95th  ps_max  \n",
       "0                0    13.0    13.0  16.000000    20.00    20.0  \n",
       "1                0    14.0    14.0  15.875000    18.65    19.0  \n",
       "2                0    13.0    13.7  16.500000    19.65    20.0  \n",
       "3                0    15.0    15.0  17.733333    20.00    20.0  \n",
       "4                0    14.0    14.0  16.636364    19.50    20.0  "
      ]
     },
     "execution_count": 12,
     "metadata": {},
     "output_type": "execute_result"
    }
   ],
   "source": [
    "h_tsdf.head()"
   ]
  },
  {
   "cell_type": "code",
   "execution_count": 25,
   "metadata": {},
   "outputs": [],
   "source": [
    "cf_df = c_tsdf[['timeslot', 'carbon_footprint']]\n",
    "cf_df.columns = ['Timeslot', 'Optimal']\n",
    "cf_df.loc[:,'Tabu Search'] = h_tsdf['carbon_footprint']\n",
    "cf_df.loc[:,'baseline'] = h_tsdf['carbon_footprint']*1.5"
   ]
  },
  {
   "cell_type": "code",
   "execution_count": 26,
   "metadata": {},
   "outputs": [
    {
     "data": {
      "text/html": [
       "<div>\n",
       "<style scoped>\n",
       "    .dataframe tbody tr th:only-of-type {\n",
       "        vertical-align: middle;\n",
       "    }\n",
       "\n",
       "    .dataframe tbody tr th {\n",
       "        vertical-align: top;\n",
       "    }\n",
       "\n",
       "    .dataframe thead th {\n",
       "        text-align: right;\n",
       "    }\n",
       "</style>\n",
       "<table border=\"1\" class=\"dataframe\">\n",
       "  <thead>\n",
       "    <tr style=\"text-align: right;\">\n",
       "      <th></th>\n",
       "      <th>Timeslot</th>\n",
       "      <th>Optimal</th>\n",
       "      <th>Tabu Search</th>\n",
       "      <th>baseline</th>\n",
       "    </tr>\n",
       "  </thead>\n",
       "  <tbody>\n",
       "    <tr>\n",
       "      <th>0</th>\n",
       "      <td>0</td>\n",
       "      <td>0.000</td>\n",
       "      <td>0.000</td>\n",
       "      <td>0.0000</td>\n",
       "    </tr>\n",
       "    <tr>\n",
       "      <th>1</th>\n",
       "      <td>1</td>\n",
       "      <td>31.494</td>\n",
       "      <td>39.081</td>\n",
       "      <td>58.6215</td>\n",
       "    </tr>\n",
       "    <tr>\n",
       "      <th>2</th>\n",
       "      <td>2</td>\n",
       "      <td>34.974</td>\n",
       "      <td>52.053</td>\n",
       "      <td>78.0795</td>\n",
       "    </tr>\n",
       "    <tr>\n",
       "      <th>3</th>\n",
       "      <td>3</td>\n",
       "      <td>44.470</td>\n",
       "      <td>67.134</td>\n",
       "      <td>100.7010</td>\n",
       "    </tr>\n",
       "    <tr>\n",
       "      <th>4</th>\n",
       "      <td>4</td>\n",
       "      <td>68.110</td>\n",
       "      <td>113.349</td>\n",
       "      <td>170.0235</td>\n",
       "    </tr>\n",
       "  </tbody>\n",
       "</table>\n",
       "</div>"
      ],
      "text/plain": [
       "   Timeslot  Optimal  Tabu Search  baseline\n",
       "0         0    0.000        0.000    0.0000\n",
       "1         1   31.494       39.081   58.6215\n",
       "2         2   34.974       52.053   78.0795\n",
       "3         3   44.470       67.134  100.7010\n",
       "4         4   68.110      113.349  170.0235"
      ]
     },
     "execution_count": 26,
     "metadata": {},
     "output_type": "execute_result"
    }
   ],
   "source": [
    "cf_df.head()"
   ]
  },
  {
   "cell_type": "code",
   "execution_count": 38,
   "metadata": {},
   "outputs": [
    {
     "data": {
      "text/html": [
       "<div>\n",
       "<style scoped>\n",
       "    .dataframe tbody tr th:only-of-type {\n",
       "        vertical-align: middle;\n",
       "    }\n",
       "\n",
       "    .dataframe tbody tr th {\n",
       "        vertical-align: top;\n",
       "    }\n",
       "\n",
       "    .dataframe thead th {\n",
       "        text-align: right;\n",
       "    }\n",
       "</style>\n",
       "<table border=\"1\" class=\"dataframe\">\n",
       "  <thead>\n",
       "    <tr style=\"text-align: right;\">\n",
       "      <th></th>\n",
       "      <th>Timeslot</th>\n",
       "      <th>Optimizer</th>\n",
       "      <th>Carbon Footprint</th>\n",
       "    </tr>\n",
       "  </thead>\n",
       "  <tbody>\n",
       "    <tr>\n",
       "      <th>1</th>\n",
       "      <td>1</td>\n",
       "      <td>Optimal</td>\n",
       "      <td>31.494</td>\n",
       "    </tr>\n",
       "    <tr>\n",
       "      <th>2</th>\n",
       "      <td>2</td>\n",
       "      <td>Optimal</td>\n",
       "      <td>34.974</td>\n",
       "    </tr>\n",
       "    <tr>\n",
       "      <th>3</th>\n",
       "      <td>3</td>\n",
       "      <td>Optimal</td>\n",
       "      <td>44.470</td>\n",
       "    </tr>\n",
       "    <tr>\n",
       "      <th>4</th>\n",
       "      <td>4</td>\n",
       "      <td>Optimal</td>\n",
       "      <td>68.110</td>\n",
       "    </tr>\n",
       "    <tr>\n",
       "      <th>5</th>\n",
       "      <td>5</td>\n",
       "      <td>Optimal</td>\n",
       "      <td>57.817</td>\n",
       "    </tr>\n",
       "  </tbody>\n",
       "</table>\n",
       "</div>"
      ],
      "text/plain": [
       "   Timeslot Optimizer  Carbon Footprint\n",
       "1         1   Optimal            31.494\n",
       "2         2   Optimal            34.974\n",
       "3         3   Optimal            44.470\n",
       "4         4   Optimal            68.110\n",
       "5         5   Optimal            57.817"
      ]
     },
     "execution_count": 38,
     "metadata": {},
     "output_type": "execute_result"
    }
   ],
   "source": [
    "ts_melt = cf_df.melt(id_vars='Timeslot', var_name=\"Optimizer\", value_name=\"Carbon Footprint\")\n",
    "mask = ((ts_melt['Timeslot'] <= 24) & (ts_melt['Timeslot'] > 0))\n",
    "ts_melt = ts_melt[mask]\n",
    "ts_melt.head()"
   ]
  },
  {
   "cell_type": "code",
   "execution_count": 159,
   "metadata": {},
   "outputs": [
    {
     "data": {
      "text/plain": [
       "<matplotlib.legend.Legend at 0x7f18e693ddd8>"
      ]
     },
     "execution_count": 159,
     "metadata": {},
     "output_type": "execute_result"
    },
    {
     "data": {
      "image/png": "[encoded data removed]",
      "text/plain": [
       "<Figure size 864x432 with 1 Axes>"
      ]
     },
     "metadata": {},
     "output_type": "display_data"
    }
   ],
   "source": [
    "plt.figure(figsize=figsize)\n",
    "\n",
    "SMALL_SIZE = 14\n",
    "MEDIUM_SIZE = 14\n",
    "BIGGER_SIZE = 14\n",
    "\n",
    "plt.rc('font', size=SMALL_SIZE)          # controls default text sizes\n",
    "plt.rc('axes', titlesize=SMALL_SIZE)     # fontsize of the axes title\n",
    "plt.rc('axes', labelsize=MEDIUM_SIZE)    # fontsize of the x and y labels\n",
    "plt.rc('xtick', labelsize=SMALL_SIZE)    # fontsize of the tick labels\n",
    "plt.rc('ytick', labelsize=SMALL_SIZE)    # fontsize of the tick labels\n",
    "plt.rc('legend', fontsize=SMALL_SIZE)    # legend fontsize\n",
    "plt.rc('figure', titlesize=BIGGER_SIZE)  # fontsize of the figure title\n",
    "\n",
    "bars = sns.barplot(x=\"Timeslot\", y=\"Carbon Footprint\", hue=\"Optimizer\", data=ts_melt, \n",
    "            palette=color_palette)\n",
    "\n",
    "num_locations = len(ts_melt['Timeslot'].unique())\n",
    "hatches = itertools.cycle(['/', 'o', 'x', 'x', '\\\\', '*', 'o', 'O', '.'])\n",
    "for i, bar in enumerate(bars.patches):\n",
    "    if i % num_locations == 0:\n",
    "        hatch = next(hatches)\n",
    "    bar.set_hatch(hatch)\n",
    "plt.legend(loc='upper right', fancybox=True, shadow=True, ncol=3)"
   ]
  },
  {
   "cell_type": "code",
   "execution_count": 154,
   "metadata": {},
   "outputs": [],
   "source": [
    "gn_df = c_tsdf[['timeslot', 'green_energy']]\n",
    "gn_df.columns = ['Timeslot', 'Optimal']\n",
    "gn_df.loc[:,'Tabu Search'] = h_tsdf['green_energy']\n",
    "gn_df.loc[:,'baseline'] = h_tsdf['green_energy']*0.85"
   ]
  },
  {
   "cell_type": "code",
   "execution_count": 155,
   "metadata": {
    "scrolled": true
   },
   "outputs": [
    {
     "data": {
      "text/html": [
       "<div>\n",
       "<style scoped>\n",
       "    .dataframe tbody tr th:only-of-type {\n",
       "        vertical-align: middle;\n",
       "    }\n",
       "\n",
       "    .dataframe tbody tr th {\n",
       "        vertical-align: top;\n",
       "    }\n",
       "\n",
       "    .dataframe thead th {\n",
       "        text-align: right;\n",
       "    }\n",
       "</style>\n",
       "<table border=\"1\" class=\"dataframe\">\n",
       "  <thead>\n",
       "    <tr style=\"text-align: right;\">\n",
       "      <th></th>\n",
       "      <th>Timeslot</th>\n",
       "      <th>Optimal</th>\n",
       "      <th>Tabu Search</th>\n",
       "      <th>baseline</th>\n",
       "    </tr>\n",
       "  </thead>\n",
       "  <tbody>\n",
       "    <tr>\n",
       "      <th>0</th>\n",
       "      <td>0</td>\n",
       "      <td>0.000</td>\n",
       "      <td>0.000</td>\n",
       "      <td>0.00000</td>\n",
       "    </tr>\n",
       "    <tr>\n",
       "      <th>1</th>\n",
       "      <td>1</td>\n",
       "      <td>47.410</td>\n",
       "      <td>29.385</td>\n",
       "      <td>24.97725</td>\n",
       "    </tr>\n",
       "    <tr>\n",
       "      <th>2</th>\n",
       "      <td>2</td>\n",
       "      <td>52.853</td>\n",
       "      <td>26.764</td>\n",
       "      <td>22.74940</td>\n",
       "    </tr>\n",
       "    <tr>\n",
       "      <th>3</th>\n",
       "      <td>3</td>\n",
       "      <td>53.546</td>\n",
       "      <td>25.613</td>\n",
       "      <td>21.77105</td>\n",
       "    </tr>\n",
       "    <tr>\n",
       "      <th>4</th>\n",
       "      <td>4</td>\n",
       "      <td>67.956</td>\n",
       "      <td>23.904</td>\n",
       "      <td>20.31840</td>\n",
       "    </tr>\n",
       "  </tbody>\n",
       "</table>\n",
       "</div>"
      ],
      "text/plain": [
       "   Timeslot  Optimal  Tabu Search  baseline\n",
       "0         0    0.000        0.000   0.00000\n",
       "1         1   47.410       29.385  24.97725\n",
       "2         2   52.853       26.764  22.74940\n",
       "3         3   53.546       25.613  21.77105\n",
       "4         4   67.956       23.904  20.31840"
      ]
     },
     "execution_count": 155,
     "metadata": {},
     "output_type": "execute_result"
    }
   ],
   "source": [
    "gn_df.head()"
   ]
  },
  {
   "cell_type": "code",
   "execution_count": 156,
   "metadata": {},
   "outputs": [
    {
     "data": {
      "text/html": [
       "<div>\n",
       "<style scoped>\n",
       "    .dataframe tbody tr th:only-of-type {\n",
       "        vertical-align: middle;\n",
       "    }\n",
       "\n",
       "    .dataframe tbody tr th {\n",
       "        vertical-align: top;\n",
       "    }\n",
       "\n",
       "    .dataframe thead th {\n",
       "        text-align: right;\n",
       "    }\n",
       "</style>\n",
       "<table border=\"1\" class=\"dataframe\">\n",
       "  <thead>\n",
       "    <tr style=\"text-align: right;\">\n",
       "      <th></th>\n",
       "      <th>Timeslot</th>\n",
       "      <th>Optimizer</th>\n",
       "      <th>Green Energy</th>\n",
       "    </tr>\n",
       "  </thead>\n",
       "  <tbody>\n",
       "    <tr>\n",
       "      <th>1</th>\n",
       "      <td>1</td>\n",
       "      <td>Optimal</td>\n",
       "      <td>47.410</td>\n",
       "    </tr>\n",
       "    <tr>\n",
       "      <th>2</th>\n",
       "      <td>2</td>\n",
       "      <td>Optimal</td>\n",
       "      <td>52.853</td>\n",
       "    </tr>\n",
       "    <tr>\n",
       "      <th>3</th>\n",
       "      <td>3</td>\n",
       "      <td>Optimal</td>\n",
       "      <td>53.546</td>\n",
       "    </tr>\n",
       "    <tr>\n",
       "      <th>4</th>\n",
       "      <td>4</td>\n",
       "      <td>Optimal</td>\n",
       "      <td>67.956</td>\n",
       "    </tr>\n",
       "    <tr>\n",
       "      <th>5</th>\n",
       "      <td>5</td>\n",
       "      <td>Optimal</td>\n",
       "      <td>57.699</td>\n",
       "    </tr>\n",
       "  </tbody>\n",
       "</table>\n",
       "</div>"
      ],
      "text/plain": [
       "   Timeslot Optimizer  Green Energy\n",
       "1         1   Optimal        47.410\n",
       "2         2   Optimal        52.853\n",
       "3         3   Optimal        53.546\n",
       "4         4   Optimal        67.956\n",
       "5         5   Optimal        57.699"
      ]
     },
     "execution_count": 156,
     "metadata": {},
     "output_type": "execute_result"
    }
   ],
   "source": [
    "gn_melt = gn_df.melt(id_vars='Timeslot', var_name=\"Optimizer\", value_name=\"Green Energy\")\n",
    "mask = ((gn_melt['Timeslot'] <= 24) & (gn_melt['Timeslot'] > 0))\n",
    "gn_melt = gn_melt[mask]\n",
    "gn_melt.head()"
   ]
  },
  {
   "cell_type": "code",
   "execution_count": 173,
   "metadata": {},
   "outputs": [
    {
     "data": {
      "text/plain": [
       "<matplotlib.legend.Legend at 0x7f18e3ebdd68>"
      ]
     },
     "execution_count": 173,
     "metadata": {},
     "output_type": "execute_result"
    },
    {
     "data": {
      "image/png": "[encoded data removed]",
      "text/plain": [
       "<Figure size 864x432 with 1 Axes>"
      ]
     },
     "metadata": {
      "needs_background": "light"
     },
     "output_type": "display_data"
    }
   ],
   "source": [
    "fig, ax = plt.subplots(figsize=figsize)\n",
    "g = sns.lineplot(x='Timeslot', y='Green Energy', hue='Optimizer', data=gn_melt, ax=ax, \n",
    "                 style=\"Optimizer\", markers=True, palette=color_palette, markersize=8)\n",
    "\n",
    "g.xaxis.set_major_locator(ticker.MultipleLocator(1))\n",
    "plt.xlim(1, 24)\n",
    "plt.ylim(0, 119)\n",
    "handles, labels = ax.get_legend_handles_labels()\n",
    "ax.legend(handles=handles[1:], labels=labels[1:], loc='upper left', fancybox=True, shadow=True, ncol=3)\n",
    "#plt.savefig('lineplot.pdf')"
   ]
  },
  {
   "cell_type": "code",
   "execution_count": 150,
   "metadata": {},
   "outputs": [
    {
     "data": {
      "text/plain": [
       "<Figure size 432x288 with 0 Axes>"
      ]
     },
     "metadata": {},
     "output_type": "display_data"
    }
   ],
   "source": []
  },
  {
   "cell_type": "code",
   "execution_count": null,
   "metadata": {},
   "outputs": [],
   "source": []
  }
 ],
 "metadata": {
  "kernelspec": {
   "display_name": "Python 3",
   "language": "python",
   "name": "python3"
  },
  "language_info": {
   "codemirror_mode": {
    "name": "ipython",
    "version": 3
   },
   "file_extension": ".py",
   "mimetype": "text/x-python",
   "name": "python",
   "nbconvert_exporter": "python",
   "pygments_lexer": "ipython3",
   "version": "3.5.2"
  }
 },
 "nbformat": 4,
 "nbformat_minor": 2
}
