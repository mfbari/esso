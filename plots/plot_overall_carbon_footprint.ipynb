{
 "cells": [
  {
   "cell_type": "code",
   "execution_count": 1,
   "metadata": {},
   "outputs": [],
   "source": [
    "import pandas as pd\n",
    "import numpy as np\n",
    "import matplotlib.pyplot as plt\n",
    "import seaborn as sns\n",
    "%matplotlib inline"
   ]
  },
  {
   "cell_type": "code",
   "execution_count": 2,
   "metadata": {},
   "outputs": [],
   "source": [
    "dataset_name = '13129_0.5_0.003'\n",
    "\n",
    "cplex_dataset_name = 'c_' + dataset_name\n",
    "tabusearch_dataset_name = 'h_' + dataset_name\n",
    "\n",
    "cplex_timeslot_csv = '../runs/' + cplex_dataset_name + '/timeslot_data.csv'\n",
    "cplex_sfc_csv = '../runs/' + cplex_dataset_name + '/sfc_data.csv'\n",
    "tabusearch_timeslot_csv = '../runs/' + tabusearch_dataset_name + '/timeslot_data.csv'\n",
    "tabusearch_sfc_csv = '../runs/' + tabusearch_dataset_name + '/sfc_data.csv'"
   ]
  },
  {
   "cell_type": "code",
   "execution_count": 25,
   "metadata": {},
   "outputs": [],
   "source": [
    "ts_ts_df = pd.read_csv(tabusearch_timeslot_csv)\n",
    "#cx_ts_df = pd.read_csv(cplex_timeslot_csv)"
   ]
  },
  {
   "cell_type": "code",
   "execution_count": 26,
   "metadata": {
    "scrolled": true
   },
   "outputs": [
    {
     "data": {
      "text/html": [
       "<div>\n",
       "<style scoped>\n",
       "    .dataframe tbody tr th:only-of-type {\n",
       "        vertical-align: middle;\n",
       "    }\n",
       "\n",
       "    .dataframe tbody tr th {\n",
       "        vertical-align: top;\n",
       "    }\n",
       "\n",
       "    .dataframe thead th {\n",
       "        text-align: right;\n",
       "    }\n",
       "</style>\n",
       "<table border=\"1\" class=\"dataframe\">\n",
       "  <thead>\n",
       "    <tr style=\"text-align: right;\">\n",
       "      <th></th>\n",
       "      <th>timeslot</th>\n",
       "      <th>carbon_footprint</th>\n",
       "      <th>brown_energy</th>\n",
       "      <th>green_energy</th>\n",
       "      <th>acceptance_ratio</th>\n",
       "      <th>migration_count</th>\n",
       "      <th>ps_min</th>\n",
       "      <th>ps_5th</th>\n",
       "      <th>ps_mean</th>\n",
       "      <th>ps_95th</th>\n",
       "      <th>ps_max</th>\n",
       "    </tr>\n",
       "  </thead>\n",
       "  <tbody>\n",
       "    <tr>\n",
       "      <th>0</th>\n",
       "      <td>0</td>\n",
       "      <td>0.000</td>\n",
       "      <td>0.000</td>\n",
       "      <td>0.000</td>\n",
       "      <td>100.0</td>\n",
       "      <td>0</td>\n",
       "      <td>13.0</td>\n",
       "      <td>13.0</td>\n",
       "      <td>16.000000</td>\n",
       "      <td>20.00</td>\n",
       "      <td>20.0</td>\n",
       "    </tr>\n",
       "    <tr>\n",
       "      <th>1</th>\n",
       "      <td>1</td>\n",
       "      <td>39.081</td>\n",
       "      <td>32.308</td>\n",
       "      <td>29.385</td>\n",
       "      <td>100.0</td>\n",
       "      <td>0</td>\n",
       "      <td>14.0</td>\n",
       "      <td>14.0</td>\n",
       "      <td>15.875000</td>\n",
       "      <td>18.65</td>\n",
       "      <td>19.0</td>\n",
       "    </tr>\n",
       "    <tr>\n",
       "      <th>2</th>\n",
       "      <td>2</td>\n",
       "      <td>52.053</td>\n",
       "      <td>41.957</td>\n",
       "      <td>26.764</td>\n",
       "      <td>100.0</td>\n",
       "      <td>0</td>\n",
       "      <td>13.0</td>\n",
       "      <td>13.7</td>\n",
       "      <td>16.500000</td>\n",
       "      <td>19.65</td>\n",
       "      <td>20.0</td>\n",
       "    </tr>\n",
       "    <tr>\n",
       "      <th>3</th>\n",
       "      <td>3</td>\n",
       "      <td>67.134</td>\n",
       "      <td>56.194</td>\n",
       "      <td>25.613</td>\n",
       "      <td>100.0</td>\n",
       "      <td>0</td>\n",
       "      <td>15.0</td>\n",
       "      <td>15.0</td>\n",
       "      <td>17.733333</td>\n",
       "      <td>20.00</td>\n",
       "      <td>20.0</td>\n",
       "    </tr>\n",
       "    <tr>\n",
       "      <th>4</th>\n",
       "      <td>4</td>\n",
       "      <td>113.349</td>\n",
       "      <td>95.657</td>\n",
       "      <td>23.904</td>\n",
       "      <td>100.0</td>\n",
       "      <td>0</td>\n",
       "      <td>14.0</td>\n",
       "      <td>14.0</td>\n",
       "      <td>16.636364</td>\n",
       "      <td>19.50</td>\n",
       "      <td>20.0</td>\n",
       "    </tr>\n",
       "  </tbody>\n",
       "</table>\n",
       "</div>"
      ],
      "text/plain": [
       "   timeslot  carbon_footprint  brown_energy  green_energy  acceptance_ratio  \\\n",
       "0         0             0.000         0.000         0.000             100.0   \n",
       "1         1            39.081        32.308        29.385             100.0   \n",
       "2         2            52.053        41.957        26.764             100.0   \n",
       "3         3            67.134        56.194        25.613             100.0   \n",
       "4         4           113.349        95.657        23.904             100.0   \n",
       "\n",
       "   migration_count  ps_min  ps_5th    ps_mean  ps_95th  ps_max  \n",
       "0                0    13.0    13.0  16.000000    20.00    20.0  \n",
       "1                0    14.0    14.0  15.875000    18.65    19.0  \n",
       "2                0    13.0    13.7  16.500000    19.65    20.0  \n",
       "3                0    15.0    15.0  17.733333    20.00    20.0  \n",
       "4                0    14.0    14.0  16.636364    19.50    20.0  "
      ]
     },
     "execution_count": 26,
     "metadata": {},
     "output_type": "execute_result"
    }
   ],
   "source": [
    "ts_ts_df.head()"
   ]
  },
  {
   "cell_type": "code",
   "execution_count": 45,
   "metadata": {},
   "outputs": [],
   "source": [
    "cf_df = ts_ts_df[['timeslot', 'carbon_footprint']]\n",
    "cf_df.columns = ['Timeslot', 'Tabu Search']\n",
    "cf_df.loc[:,'Optimal'] = ts_ts_df['green_energy']"
   ]
  },
  {
   "cell_type": "code",
   "execution_count": 46,
   "metadata": {},
   "outputs": [
    {
     "data": {
      "text/html": [
       "<div>\n",
       "<style scoped>\n",
       "    .dataframe tbody tr th:only-of-type {\n",
       "        vertical-align: middle;\n",
       "    }\n",
       "\n",
       "    .dataframe tbody tr th {\n",
       "        vertical-align: top;\n",
       "    }\n",
       "\n",
       "    .dataframe thead th {\n",
       "        text-align: right;\n",
       "    }\n",
       "</style>\n",
       "<table border=\"1\" class=\"dataframe\">\n",
       "  <thead>\n",
       "    <tr style=\"text-align: right;\">\n",
       "      <th></th>\n",
       "      <th>Timeslot</th>\n",
       "      <th>Tabu Search</th>\n",
       "      <th>Optimal</th>\n",
       "    </tr>\n",
       "  </thead>\n",
       "  <tbody>\n",
       "    <tr>\n",
       "      <th>0</th>\n",
       "      <td>0</td>\n",
       "      <td>0.000</td>\n",
       "      <td>0.000</td>\n",
       "    </tr>\n",
       "    <tr>\n",
       "      <th>1</th>\n",
       "      <td>1</td>\n",
       "      <td>39.081</td>\n",
       "      <td>29.385</td>\n",
       "    </tr>\n",
       "    <tr>\n",
       "      <th>2</th>\n",
       "      <td>2</td>\n",
       "      <td>52.053</td>\n",
       "      <td>26.764</td>\n",
       "    </tr>\n",
       "    <tr>\n",
       "      <th>3</th>\n",
       "      <td>3</td>\n",
       "      <td>67.134</td>\n",
       "      <td>25.613</td>\n",
       "    </tr>\n",
       "    <tr>\n",
       "      <th>4</th>\n",
       "      <td>4</td>\n",
       "      <td>113.349</td>\n",
       "      <td>23.904</td>\n",
       "    </tr>\n",
       "  </tbody>\n",
       "</table>\n",
       "</div>"
      ],
      "text/plain": [
       "   Timeslot  Tabu Search  Optimal\n",
       "0         0        0.000    0.000\n",
       "1         1       39.081   29.385\n",
       "2         2       52.053   26.764\n",
       "3         3       67.134   25.613\n",
       "4         4      113.349   23.904"
      ]
     },
     "execution_count": 46,
     "metadata": {},
     "output_type": "execute_result"
    }
   ],
   "source": [
    "cf_df.head()"
   ]
  },
  {
   "cell_type": "code",
   "execution_count": 47,
   "metadata": {},
   "outputs": [
    {
     "data": {
      "text/html": [
       "<div>\n",
       "<style scoped>\n",
       "    .dataframe tbody tr th:only-of-type {\n",
       "        vertical-align: middle;\n",
       "    }\n",
       "\n",
       "    .dataframe tbody tr th {\n",
       "        vertical-align: top;\n",
       "    }\n",
       "\n",
       "    .dataframe thead th {\n",
       "        text-align: right;\n",
       "    }\n",
       "</style>\n",
       "<table border=\"1\" class=\"dataframe\">\n",
       "  <thead>\n",
       "    <tr style=\"text-align: right;\">\n",
       "      <th></th>\n",
       "      <th>Timeslot</th>\n",
       "      <th>Optimizer</th>\n",
       "      <th>Carbon Footprint</th>\n",
       "    </tr>\n",
       "  </thead>\n",
       "  <tbody>\n",
       "    <tr>\n",
       "      <th>0</th>\n",
       "      <td>0</td>\n",
       "      <td>Tabu Search</td>\n",
       "      <td>0.000</td>\n",
       "    </tr>\n",
       "    <tr>\n",
       "      <th>1</th>\n",
       "      <td>1</td>\n",
       "      <td>Tabu Search</td>\n",
       "      <td>39.081</td>\n",
       "    </tr>\n",
       "    <tr>\n",
       "      <th>2</th>\n",
       "      <td>2</td>\n",
       "      <td>Tabu Search</td>\n",
       "      <td>52.053</td>\n",
       "    </tr>\n",
       "    <tr>\n",
       "      <th>3</th>\n",
       "      <td>3</td>\n",
       "      <td>Tabu Search</td>\n",
       "      <td>67.134</td>\n",
       "    </tr>\n",
       "    <tr>\n",
       "      <th>4</th>\n",
       "      <td>4</td>\n",
       "      <td>Tabu Search</td>\n",
       "      <td>113.349</td>\n",
       "    </tr>\n",
       "  </tbody>\n",
       "</table>\n",
       "</div>"
      ],
      "text/plain": [
       "   Timeslot    Optimizer  Carbon Footprint\n",
       "0         0  Tabu Search             0.000\n",
       "1         1  Tabu Search            39.081\n",
       "2         2  Tabu Search            52.053\n",
       "3         3  Tabu Search            67.134\n",
       "4         4  Tabu Search           113.349"
      ]
     },
     "execution_count": 47,
     "metadata": {},
     "output_type": "execute_result"
    }
   ],
   "source": [
    "ts_melt = cf_df.melt(id_vars='Timeslot', var_name=\"Optimizer\", value_name=\"Carbon Footprint\")\n",
    "ts_melt.head()"
   ]
  },
  {
   "cell_type": "code",
   "execution_count": 53,
   "metadata": {},
   "outputs": [
    {
     "data": {
      "text/plain": [
       "<seaborn.axisgrid.FacetGrid at 0x7f8b9cab4a90>"
      ]
     },
     "execution_count": 53,
     "metadata": {},
     "output_type": "execute_result"
    },
    {
     "data": {
      "image/png": "[encoded data removed]",
      "text/plain": [
       "<Figure size 674.359x576 with 1 Axes>"
      ]
     },
     "metadata": {
      "needs_background": "light"
     },
     "output_type": "display_data"
    }
   ],
   "source": [
    "sns.catplot(x=\"Timeslot\", y=\"Carbon Footprint\", hue=\"Optimizer\", data=ts_melt, height=8, kind=\"bar\")"
   ]
  },
  {
   "cell_type": "code",
   "execution_count": null,
   "metadata": {},
   "outputs": [],
   "source": []
  }
 ],
 "metadata": {
  "kernelspec": {
   "display_name": "Python 3",
   "language": "python",
   "name": "python3"
  },
  "language_info": {
   "codemirror_mode": {
    "name": "ipython",
    "version": 3
   },
   "file_extension": ".py",
   "mimetype": "text/x-python",
   "name": "python",
   "nbconvert_exporter": "python",
   "pygments_lexer": "ipython3",
   "version": "3.5.2"
  }
 },
 "nbformat": 4,
 "nbformat_minor": 2
}
