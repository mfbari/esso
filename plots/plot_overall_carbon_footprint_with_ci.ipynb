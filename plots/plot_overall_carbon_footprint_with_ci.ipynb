{
 "cells": [
  {
   "cell_type": "code",
   "execution_count": 1,
   "metadata": {},
   "outputs": [],
   "source": [
    "import itertools\n",
    "import pandas as pd\n",
    "import numpy as np\n",
    "import matplotlib.pyplot as plt\n",
    "import matplotlib.ticker as ticker\n",
    "import seaborn as sns\n",
    "%matplotlib inline"
   ]
  },
  {
   "cell_type": "code",
   "execution_count": 2,
   "metadata": {},
   "outputs": [],
   "source": [
    "sns.set(style=\"whitegrid\")\n",
    "color_palette = ['Red', 'Black', 'Blue']\n",
    "figsize=(12,6)"
   ]
  },
  {
   "cell_type": "code",
   "execution_count": 4,
   "metadata": {},
   "outputs": [],
   "source": [
    "df_dir = {}"
   ]
  },
  {
   "cell_type": "code",
   "execution_count": 5,
   "metadata": {},
   "outputs": [
    {
     "name": "stdout",
     "output_type": "stream",
     "text": [
      "c_13129_0_003_3600_0_01\n",
      "c_13129_0_003_3600_0_02\n",
      "c_13129_0_003_3600_0_03\n",
      "c_13129_0_003_3600_0_04\n",
      "c_13129_0_003_3600_0_05\n",
      "c_13129_0_003_3600_0_06\n",
      "c_13129_0_003_3600_0_07\n",
      "c_13129_0_003_3600_0_08\n",
      "c_13129_0_003_3600_0_09\n",
      "c_13129_0_003_3600_0_10\n",
      "t_13129_0_003_3600_0_01\n",
      "t_13129_0_003_3600_0_02\n",
      "t_13129_0_003_3600_0_03\n",
      "t_13129_0_003_3600_0_04\n",
      "t_13129_0_003_3600_0_05\n",
      "t_13129_0_003_3600_0_06\n",
      "t_13129_0_003_3600_0_07\n",
      "t_13129_0_003_3600_0_08\n",
      "t_13129_0_003_3600_0_09\n",
      "t_13129_0_003_3600_0_10\n",
      "f_13129_0_003_3600_0_01\n",
      "f_13129_0_003_3600_0_02\n",
      "f_13129_0_003_3600_0_03\n",
      "f_13129_0_003_3600_0_04\n",
      "f_13129_0_003_3600_0_05\n",
      "f_13129_0_003_3600_0_06\n",
      "f_13129_0_003_3600_0_07\n",
      "f_13129_0_003_3600_0_08\n",
      "f_13129_0_003_3600_0_09\n",
      "f_13129_0_003_3600_0_10\n"
     ]
    }
   ],
   "source": [
    "as_number = '13129'\n",
    "arrival_rate = '0.003'\n",
    "sfc_duration = '3600'\n",
    "opt_name = {'c':'Optimal', 't':'Tabu Search', 'f':'First Fit'}\n",
    "for opt in opt_name.keys():\n",
    "    for std in range(1, 11):\n",
    "        std_dev = '{:4.2f}'.format(std*0.01)\n",
    "        run_id = opt + '_' + as_number + '_' + arrival_rate + '_' + sfc_duration + '_' + std_dev\n",
    "        df_id = run_id.replace('.', '_')\n",
    "        exec(df_id + '_df = pd.read_csv(' + '\"overall_carbon_footprint_data/' + run_id + '/timeslot_data.csv' + '\", index_col=\"timeslot\")' )\n",
    "        exec('df_dir[\"' + df_id + '\"] = ' + df_id + '_df')\n",
    "        df_dir[df_id]['Optimizer'] = opt_name[opt]\n",
    "        df_dir[df_id]['STD'] = std_dev\n",
    "        #df_dir[df_id]['Server Spread'] = df_dir[df_id]['server_count'] / df_dir[df_id]['vnf_count']\n",
    "        #df_dir[df_id]['NFV-POD Spread'] = df_dir[df_id]['co_count'] / df_dir[df_id]['vnf_count']\n",
    "        print(df_id)"
   ]
  },
  {
   "cell_type": "code",
   "execution_count": 13,
   "metadata": {
    "scrolled": false
   },
   "outputs": [],
   "source": [
    "data_df = pd.concat(list(df_dir.values()), axis=0)"
   ]
  },
  {
   "cell_type": "code",
   "execution_count": 14,
   "metadata": {
    "scrolled": true
   },
   "outputs": [
    {
     "data": {
      "text/html": [
       "<div>\n",
       "<style scoped>\n",
       "    .dataframe tbody tr th:only-of-type {\n",
       "        vertical-align: middle;\n",
       "    }\n",
       "\n",
       "    .dataframe tbody tr th {\n",
       "        vertical-align: top;\n",
       "    }\n",
       "\n",
       "    .dataframe thead th {\n",
       "        text-align: right;\n",
       "    }\n",
       "</style>\n",
       "<table border=\"1\" class=\"dataframe\">\n",
       "  <thead>\n",
       "    <tr style=\"text-align: right;\">\n",
       "      <th></th>\n",
       "      <th>carbon_footprint</th>\n",
       "      <th>brown_energy</th>\n",
       "      <th>green_energy</th>\n",
       "      <th>acceptance_ratio</th>\n",
       "      <th>migration_count</th>\n",
       "      <th>ps_min</th>\n",
       "      <th>ps_5th</th>\n",
       "      <th>ps_mean</th>\n",
       "      <th>ps_95th</th>\n",
       "      <th>ps_max</th>\n",
       "      <th>Optimizer</th>\n",
       "      <th>STD</th>\n",
       "    </tr>\n",
       "    <tr>\n",
       "      <th>timeslot</th>\n",
       "      <th></th>\n",
       "      <th></th>\n",
       "      <th></th>\n",
       "      <th></th>\n",
       "      <th></th>\n",
       "      <th></th>\n",
       "      <th></th>\n",
       "      <th></th>\n",
       "      <th></th>\n",
       "      <th></th>\n",
       "      <th></th>\n",
       "      <th></th>\n",
       "    </tr>\n",
       "  </thead>\n",
       "  <tbody>\n",
       "    <tr>\n",
       "      <th>0</th>\n",
       "      <td>0.000</td>\n",
       "      <td>0.000</td>\n",
       "      <td>0.000</td>\n",
       "      <td>100.000000</td>\n",
       "      <td>0</td>\n",
       "      <td>15.0</td>\n",
       "      <td>16.35</td>\n",
       "      <td>27.800000</td>\n",
       "      <td>41.95</td>\n",
       "      <td>46.0</td>\n",
       "      <td>Optimal</td>\n",
       "      <td>0.08</td>\n",
       "    </tr>\n",
       "    <tr>\n",
       "      <th>1</th>\n",
       "      <td>21.527</td>\n",
       "      <td>19.088</td>\n",
       "      <td>14.135</td>\n",
       "      <td>95.238095</td>\n",
       "      <td>0</td>\n",
       "      <td>15.0</td>\n",
       "      <td>15.00</td>\n",
       "      <td>22.100000</td>\n",
       "      <td>36.10</td>\n",
       "      <td>37.0</td>\n",
       "      <td>Optimal</td>\n",
       "      <td>0.08</td>\n",
       "    </tr>\n",
       "    <tr>\n",
       "      <th>2</th>\n",
       "      <td>39.203</td>\n",
       "      <td>33.785</td>\n",
       "      <td>22.379</td>\n",
       "      <td>80.000000</td>\n",
       "      <td>0</td>\n",
       "      <td>14.0</td>\n",
       "      <td>14.70</td>\n",
       "      <td>19.500000</td>\n",
       "      <td>30.10</td>\n",
       "      <td>35.0</td>\n",
       "      <td>Optimal</td>\n",
       "      <td>0.08</td>\n",
       "    </tr>\n",
       "    <tr>\n",
       "      <th>3</th>\n",
       "      <td>26.598</td>\n",
       "      <td>24.462</td>\n",
       "      <td>12.347</td>\n",
       "      <td>84.090909</td>\n",
       "      <td>2</td>\n",
       "      <td>14.0</td>\n",
       "      <td>15.60</td>\n",
       "      <td>22.888889</td>\n",
       "      <td>34.60</td>\n",
       "      <td>35.0</td>\n",
       "      <td>Optimal</td>\n",
       "      <td>0.08</td>\n",
       "    </tr>\n",
       "    <tr>\n",
       "      <th>4</th>\n",
       "      <td>72.103</td>\n",
       "      <td>63.501</td>\n",
       "      <td>22.379</td>\n",
       "      <td>81.632653</td>\n",
       "      <td>0</td>\n",
       "      <td>16.0</td>\n",
       "      <td>16.60</td>\n",
       "      <td>23.666667</td>\n",
       "      <td>31.90</td>\n",
       "      <td>33.0</td>\n",
       "      <td>Optimal</td>\n",
       "      <td>0.08</td>\n",
       "    </tr>\n",
       "  </tbody>\n",
       "</table>\n",
       "</div>"
      ],
      "text/plain": [
       "          carbon_footprint  brown_energy  green_energy  acceptance_ratio  \\\n",
       "timeslot                                                                   \n",
       "0                    0.000         0.000         0.000        100.000000   \n",
       "1                   21.527        19.088        14.135         95.238095   \n",
       "2                   39.203        33.785        22.379         80.000000   \n",
       "3                   26.598        24.462        12.347         84.090909   \n",
       "4                   72.103        63.501        22.379         81.632653   \n",
       "\n",
       "          migration_count  ps_min  ps_5th    ps_mean  ps_95th  ps_max  \\\n",
       "timeslot                                                                \n",
       "0                       0    15.0   16.35  27.800000    41.95    46.0   \n",
       "1                       0    15.0   15.00  22.100000    36.10    37.0   \n",
       "2                       0    14.0   14.70  19.500000    30.10    35.0   \n",
       "3                       2    14.0   15.60  22.888889    34.60    35.0   \n",
       "4                       0    16.0   16.60  23.666667    31.90    33.0   \n",
       "\n",
       "         Optimizer   STD  \n",
       "timeslot                  \n",
       "0          Optimal  0.08  \n",
       "1          Optimal  0.08  \n",
       "2          Optimal  0.08  \n",
       "3          Optimal  0.08  \n",
       "4          Optimal  0.08  "
      ]
     },
     "execution_count": 14,
     "metadata": {},
     "output_type": "execute_result"
    }
   ],
   "source": [
    "data_df.head()"
   ]
  },
  {
   "cell_type": "code",
   "execution_count": 28,
   "metadata": {},
   "outputs": [
    {
     "data": {
      "text/plain": [
       "<Figure size 1440x648 with 0 Axes>"
      ]
     },
     "metadata": {},
     "output_type": "display_data"
    },
    {
     "data": {
      "image/png": "[encoded data removed]",
      "text/plain": [
       "<Figure size 2160x648 with 30 Axes>"
      ]
     },
     "metadata": {},
     "output_type": "display_data"
    }
   ],
   "source": [
    "plt.figure(figsize=(20,9))\n",
    "grid = sns.FacetGrid(data_df, row=\"Optimizer\", col=\"STD\", margin_titles=True)\n",
    "grid.map(plt.hist, \"acceptance_ratio\", bins=np.linspace(0, 100, 5));"
   ]
  },
  {
   "cell_type": "code",
   "execution_count": 23,
   "metadata": {
    "scrolled": true
   },
   "outputs": [
    {
     "data": {
      "text/plain": [
       "<matplotlib.axes._subplots.AxesSubplot at 0x7f8dd7e27160>"
      ]
     },
     "execution_count": 23,
     "metadata": {},
     "output_type": "execute_result"
    },
    {
     "data": {
      "image/png": "[encoded data removed]",
      "text/plain": [
       "<Figure size 432x288 with 1 Axes>"
      ]
     },
     "metadata": {},
     "output_type": "display_data"
    }
   ],
   "source": [
    "data_df[data_df['Optimizer'] == 'Optimal']['acceptance_ratio'].hist()"
   ]
  },
  {
   "cell_type": "code",
   "execution_count": 24,
   "metadata": {},
   "outputs": [
    {
     "data": {
      "text/plain": [
       "<matplotlib.axes._subplots.AxesSubplot at 0x7f8dd7ef0518>"
      ]
     },
     "execution_count": 24,
     "metadata": {},
     "output_type": "execute_result"
    },
    {
     "data": {
      "image/png": "[encoded data removed]",
      "text/plain": [
       "<Figure size 432x288 with 1 Axes>"
      ]
     },
     "metadata": {},
     "output_type": "display_data"
    }
   ],
   "source": [
    "data_df[data_df['Optimizer'] == 'Tabu Search']['acceptance_ratio'].hist()"
   ]
  },
  {
   "cell_type": "code",
   "execution_count": null,
   "metadata": {},
   "outputs": [],
   "source": [
    "cf_df = c_tsdf[['timeslot', 'carbon_footprint']]\n",
    "cf_df.columns = ['Timeslot', 'Optimal']\n",
    "cf_df.loc[:,'Tabu Search'] = h_tsdf['carbon_footprint']\n",
    "cf_df.loc[:,'Baseline'] = f_tsdf['carbon_footprint']"
   ]
  },
  {
   "cell_type": "code",
   "execution_count": null,
   "metadata": {},
   "outputs": [],
   "source": [
    "cf_df.head()"
   ]
  },
  {
   "cell_type": "code",
   "execution_count": null,
   "metadata": {},
   "outputs": [],
   "source": [
    "ts_melt = cf_df.melt(id_vars='Timeslot', var_name=\"Optimizer\", value_name=\"Carbon Footprint\")\n",
    "mask = ((ts_melt['Timeslot'] <= 24) & (ts_melt['Timeslot'] > 0))\n",
    "ts_melt = ts_melt[mask]\n",
    "ts_melt.head()"
   ]
  },
  {
   "cell_type": "code",
   "execution_count": null,
   "metadata": {},
   "outputs": [],
   "source": [
    "plt.figure(figsize=figsize)\n",
    "\n",
    "SMALL_SIZE = 14\n",
    "MEDIUM_SIZE = 14\n",
    "BIGGER_SIZE = 14\n",
    "\n",
    "plt.rc('font', size=SMALL_SIZE)          # controls default text sizes\n",
    "plt.rc('axes', titlesize=SMALL_SIZE)     # fontsize of the axes title\n",
    "plt.rc('axes', labelsize=MEDIUM_SIZE)    # fontsize of the x and y labels\n",
    "plt.rc('xtick', labelsize=SMALL_SIZE)    # fontsize of the tick labels\n",
    "plt.rc('ytick', labelsize=SMALL_SIZE)    # fontsize of the tick labels\n",
    "plt.rc('legend', fontsize=SMALL_SIZE)    # legend fontsize\n",
    "plt.rc('figure', titlesize=BIGGER_SIZE)  # fontsize of the figure title\n",
    "\n",
    "bars = sns.barplot(x=\"Timeslot\", y=\"Carbon Footprint\", hue=\"Optimizer\", data=ts_melt, \n",
    "            palette=color_palette)\n",
    "\n",
    "num_locations = len(ts_melt['Timeslot'].unique())\n",
    "hatches = itertools.cycle(['/', 'o', 'x', 'x', '\\\\', '*', 'o', 'O', '.'])\n",
    "for i, bar in enumerate(bars.patches):\n",
    "    if i % num_locations == 0:\n",
    "        hatch = next(hatches)\n",
    "    bar.set_hatch(hatch)\n",
    "plt.legend(loc='upper right', fancybox=True, shadow=True, ncol=3)"
   ]
  },
  {
   "cell_type": "code",
   "execution_count": null,
   "metadata": {},
   "outputs": [],
   "source": [
    "gn_df = c_tsdf[['timeslot', 'green_energy']]\n",
    "gn_df.columns = ['Timeslot', 'Optimal']\n",
    "gn_df.loc[:,'Tabu Search'] = h_tsdf['green_energy']\n",
    "gn_df.loc[:,'Baseline'] = f_tsdf['green_energy']"
   ]
  },
  {
   "cell_type": "code",
   "execution_count": null,
   "metadata": {
    "scrolled": true
   },
   "outputs": [],
   "source": [
    "gn_df.head()"
   ]
  },
  {
   "cell_type": "code",
   "execution_count": null,
   "metadata": {},
   "outputs": [],
   "source": [
    "gn_melt = gn_df.melt(id_vars='Timeslot', var_name=\"Optimizer\", value_name=\"Green Energy\")\n",
    "mask = ((gn_melt['Timeslot'] <= 24) & (gn_melt['Timeslot'] > 0))\n",
    "gn_melt = gn_melt[mask]\n",
    "gn_melt.head()"
   ]
  },
  {
   "cell_type": "code",
   "execution_count": null,
   "metadata": {},
   "outputs": [],
   "source": [
    "fig, ax = plt.subplots(figsize=figsize)\n",
    "g = sns.lineplot(x='Timeslot', y='Green Energy', hue='Optimizer', data=gn_melt, ax=ax, \n",
    "                 style=\"Optimizer\", markers=True, palette=color_palette, markersize=8)\n",
    "\n",
    "g.xaxis.set_major_locator(ticker.MultipleLocator(1))\n",
    "plt.xlim(1, 24)\n",
    "plt.ylim(0, 119)\n",
    "handles, labels = ax.get_legend_handles_labels()\n",
    "ax.legend(handles=handles[1:], labels=labels[1:], loc='upper left', fancybox=True, shadow=True, ncol=3)\n",
    "#plt.savefig('lineplot.pdf')"
   ]
  },
  {
   "cell_type": "code",
   "execution_count": null,
   "metadata": {},
   "outputs": [],
   "source": []
  },
  {
   "cell_type": "code",
   "execution_count": null,
   "metadata": {},
   "outputs": [],
   "source": []
  }
 ],
 "metadata": {
  "kernelspec": {
   "display_name": "Python 3",
   "language": "python",
   "name": "python3"
  },
  "language_info": {
   "codemirror_mode": {
    "name": "ipython",
    "version": 3
   },
   "file_extension": ".py",
   "mimetype": "text/x-python",
   "name": "python",
   "nbconvert_exporter": "python",
   "pygments_lexer": "ipython3",
   "version": "3.5.2"
  }
 },
 "nbformat": 4,
 "nbformat_minor": 2
}
