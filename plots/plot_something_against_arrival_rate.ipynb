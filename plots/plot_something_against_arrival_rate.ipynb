{
 "cells": [
  {
   "cell_type": "code",
   "execution_count": 1,
   "metadata": {},
   "outputs": [],
   "source": [
    "import numpy as np\n",
    "import pandas as pd\n",
    "import matplotlib\n",
    "import matplotlib.pyplot as plt\n",
    "import seaborn as sns\n",
    "%matplotlib inline"
   ]
  },
  {
   "cell_type": "code",
   "execution_count": 2,
   "metadata": {},
   "outputs": [],
   "source": [
    "matplotlib.rcParams['figure.figsize'] = (10, 6.66)"
   ]
  },
  {
   "cell_type": "code",
   "execution_count": 3,
   "metadata": {},
   "outputs": [],
   "source": [
    "df_dir = {}"
   ]
  },
  {
   "cell_type": "code",
   "execution_count": 4,
   "metadata": {},
   "outputs": [
    {
     "name": "stdout",
     "output_type": "stream",
     "text": [
      "f_13129_0_01_3600\n",
      "f_13129_0_02_3600\n",
      "f_13129_0_03_3600\n",
      "f_13129_0_04_3600\n",
      "f_13129_0_05_3600\n",
      "f_13129_0_06_3600\n",
      "f_13129_0_07_3600\n",
      "f_13129_0_08_3600\n",
      "f_13129_0_09_3600\n",
      "f_13129_0_10_3600\n",
      "t_13129_0_01_3600\n",
      "t_13129_0_02_3600\n",
      "t_13129_0_03_3600\n",
      "t_13129_0_04_3600\n",
      "t_13129_0_05_3600\n",
      "t_13129_0_06_3600\n",
      "t_13129_0_07_3600\n",
      "t_13129_0_08_3600\n",
      "t_13129_0_09_3600\n",
      "t_13129_0_10_3600\n",
      "c_13129_0_01_3600\n",
      "c_13129_0_02_3600\n",
      "c_13129_0_03_3600\n",
      "c_13129_0_04_3600\n",
      "c_13129_0_05_3600\n",
      "c_13129_0_06_3600\n",
      "c_13129_0_07_3600\n",
      "c_13129_0_08_3600\n",
      "c_13129_0_09_3600\n",
      "c_13129_0_10_3600\n"
     ]
    }
   ],
   "source": [
    "as_number = '13129'\n",
    "sfc_duration = '3600'\n",
    "opt_name = {'c':'Optimal', 't':'Tabu Search', 'f':'First Fit'}\n",
    "for opt in opt_name.keys():\n",
    "    for ar in range(1, 11):\n",
    "        arrival_rate = '{:4.2f}'.format(ar*0.01)\n",
    "        run_id = opt + '_' + as_number + '_' + arrival_rate + '_' + sfc_duration\n",
    "        df_id = run_id.replace('.', '_')\n",
    "        exec(df_id + '_df = pd.read_csv(' + '\"arrival_rate_data/' + run_id + '/timeslot_data.csv' + '\", index_col=\"timeslot\")' )\n",
    "        exec('df_dir[\"' + df_id + '\"] = ' + df_id + '_df')\n",
    "        df_dir[df_id]['Optimizer'] = opt_name[opt]\n",
    "        df_dir[df_id]['Arrival Rate'] = arrival_rate\n",
    "        df_dir[df_id]['Carbon Footprint'] = df_dir[df_id]['carbon_footprint'] / df_dir[df_id]['acceptance_ratio']\n",
    "        df_dir[df_id]['Renewable Energy'] = (df_dir[df_id]['green_energy'] / (df_dir[df_id]['green_energy'] + df_dir[df_id]['brown_energy'])) / df_dir[df_id]['acceptance_ratio']\n",
    "        print(df_id)"
   ]
  },
  {
   "cell_type": "code",
   "execution_count": 5,
   "metadata": {},
   "outputs": [],
   "source": [
    "ar_df = pd.concat(list(df_dir.values()), axis=0)"
   ]
  },
  {
   "cell_type": "code",
   "execution_count": 6,
   "metadata": {},
   "outputs": [
    {
     "data": {
      "text/plain": [
       "Index(['carbon_footprint', 'brown_energy', 'green_energy', 'acceptance_ratio',\n",
       "       'migration_count', 'ps_min', 'ps_5th', 'ps_mean', 'ps_95th', 'ps_max',\n",
       "       'Optimizer', 'Arrival Rate', 'Carbon Footprint', 'Renewable Energy'],\n",
       "      dtype='object')"
      ]
     },
     "execution_count": 6,
     "metadata": {},
     "output_type": "execute_result"
    }
   ],
   "source": [
    "ar_df.columns"
   ]
  },
  {
   "cell_type": "code",
   "execution_count": 7,
   "metadata": {
    "scrolled": false
   },
   "outputs": [
    {
     "data": {
      "text/html": [
       "<div>\n",
       "<style scoped>\n",
       "    .dataframe tbody tr th:only-of-type {\n",
       "        vertical-align: middle;\n",
       "    }\n",
       "\n",
       "    .dataframe tbody tr th {\n",
       "        vertical-align: top;\n",
       "    }\n",
       "\n",
       "    .dataframe thead th {\n",
       "        text-align: right;\n",
       "    }\n",
       "</style>\n",
       "<table border=\"1\" class=\"dataframe\">\n",
       "  <thead>\n",
       "    <tr style=\"text-align: right;\">\n",
       "      <th></th>\n",
       "      <th>carbon_footprint</th>\n",
       "      <th>brown_energy</th>\n",
       "      <th>green_energy</th>\n",
       "      <th>acceptance_ratio</th>\n",
       "      <th>migration_count</th>\n",
       "      <th>ps_min</th>\n",
       "      <th>ps_5th</th>\n",
       "      <th>ps_mean</th>\n",
       "      <th>ps_95th</th>\n",
       "      <th>ps_max</th>\n",
       "      <th>Optimizer</th>\n",
       "      <th>Arrival Rate</th>\n",
       "      <th>Carbon Footprint</th>\n",
       "      <th>Renewable Energy</th>\n",
       "    </tr>\n",
       "    <tr>\n",
       "      <th>timeslot</th>\n",
       "      <th></th>\n",
       "      <th></th>\n",
       "      <th></th>\n",
       "      <th></th>\n",
       "      <th></th>\n",
       "      <th></th>\n",
       "      <th></th>\n",
       "      <th></th>\n",
       "      <th></th>\n",
       "      <th></th>\n",
       "      <th></th>\n",
       "      <th></th>\n",
       "      <th></th>\n",
       "      <th></th>\n",
       "    </tr>\n",
       "  </thead>\n",
       "  <tbody>\n",
       "    <tr>\n",
       "      <th>0</th>\n",
       "      <td>0.000</td>\n",
       "      <td>0.000</td>\n",
       "      <td>0.000</td>\n",
       "      <td>100.0</td>\n",
       "      <td>0</td>\n",
       "      <td>13.0</td>\n",
       "      <td>13.0</td>\n",
       "      <td>16.915825</td>\n",
       "      <td>21.0</td>\n",
       "      <td>21.0</td>\n",
       "      <td>First Fit</td>\n",
       "      <td>0.08</td>\n",
       "      <td>0.00000</td>\n",
       "      <td>NaN</td>\n",
       "    </tr>\n",
       "    <tr>\n",
       "      <th>1</th>\n",
       "      <td>905.256</td>\n",
       "      <td>785.380</td>\n",
       "      <td>342.917</td>\n",
       "      <td>100.0</td>\n",
       "      <td>0</td>\n",
       "      <td>13.0</td>\n",
       "      <td>13.0</td>\n",
       "      <td>16.888136</td>\n",
       "      <td>20.0</td>\n",
       "      <td>21.0</td>\n",
       "      <td>First Fit</td>\n",
       "      <td>0.08</td>\n",
       "      <td>9.05256</td>\n",
       "      <td>0.003039</td>\n",
       "    </tr>\n",
       "    <tr>\n",
       "      <th>2</th>\n",
       "      <td>1101.693</td>\n",
       "      <td>956.136</td>\n",
       "      <td>438.518</td>\n",
       "      <td>100.0</td>\n",
       "      <td>0</td>\n",
       "      <td>13.0</td>\n",
       "      <td>13.0</td>\n",
       "      <td>16.993243</td>\n",
       "      <td>20.0</td>\n",
       "      <td>21.0</td>\n",
       "      <td>First Fit</td>\n",
       "      <td>0.08</td>\n",
       "      <td>11.01693</td>\n",
       "      <td>0.003144</td>\n",
       "    </tr>\n",
       "    <tr>\n",
       "      <th>3</th>\n",
       "      <td>1504.028</td>\n",
       "      <td>1379.172</td>\n",
       "      <td>273.442</td>\n",
       "      <td>100.0</td>\n",
       "      <td>0</td>\n",
       "      <td>13.0</td>\n",
       "      <td>13.0</td>\n",
       "      <td>16.845588</td>\n",
       "      <td>20.0</td>\n",
       "      <td>21.0</td>\n",
       "      <td>First Fit</td>\n",
       "      <td>0.08</td>\n",
       "      <td>15.04028</td>\n",
       "      <td>0.001655</td>\n",
       "    </tr>\n",
       "    <tr>\n",
       "      <th>4</th>\n",
       "      <td>1605.979</td>\n",
       "      <td>1497.214</td>\n",
       "      <td>229.258</td>\n",
       "      <td>100.0</td>\n",
       "      <td>0</td>\n",
       "      <td>13.0</td>\n",
       "      <td>13.0</td>\n",
       "      <td>16.856115</td>\n",
       "      <td>20.0</td>\n",
       "      <td>21.0</td>\n",
       "      <td>First Fit</td>\n",
       "      <td>0.08</td>\n",
       "      <td>16.05979</td>\n",
       "      <td>0.001328</td>\n",
       "    </tr>\n",
       "  </tbody>\n",
       "</table>\n",
       "</div>"
      ],
      "text/plain": [
       "          carbon_footprint  brown_energy  green_energy  acceptance_ratio  \\\n",
       "timeslot                                                                   \n",
       "0                    0.000         0.000         0.000             100.0   \n",
       "1                  905.256       785.380       342.917             100.0   \n",
       "2                 1101.693       956.136       438.518             100.0   \n",
       "3                 1504.028      1379.172       273.442             100.0   \n",
       "4                 1605.979      1497.214       229.258             100.0   \n",
       "\n",
       "          migration_count  ps_min  ps_5th    ps_mean  ps_95th  ps_max  \\\n",
       "timeslot                                                                \n",
       "0                       0    13.0    13.0  16.915825     21.0    21.0   \n",
       "1                       0    13.0    13.0  16.888136     20.0    21.0   \n",
       "2                       0    13.0    13.0  16.993243     20.0    21.0   \n",
       "3                       0    13.0    13.0  16.845588     20.0    21.0   \n",
       "4                       0    13.0    13.0  16.856115     20.0    21.0   \n",
       "\n",
       "          Optimizer Arrival Rate  Carbon Footprint  Renewable Energy  \n",
       "timeslot                                                              \n",
       "0         First Fit         0.08           0.00000               NaN  \n",
       "1         First Fit         0.08           9.05256          0.003039  \n",
       "2         First Fit         0.08          11.01693          0.003144  \n",
       "3         First Fit         0.08          15.04028          0.001655  \n",
       "4         First Fit         0.08          16.05979          0.001328  "
      ]
     },
     "execution_count": 7,
     "metadata": {},
     "output_type": "execute_result"
    }
   ],
   "source": [
    "ar_df.head()"
   ]
  },
  {
   "cell_type": "code",
   "execution_count": 8,
   "metadata": {},
   "outputs": [
    {
     "name": "stdout",
     "output_type": "stream",
     "text": [
      "<class 'pandas.core.frame.DataFrame'>\n",
      "Int64Index: 927 entries, 0 to 30\n",
      "Data columns (total 14 columns):\n",
      "carbon_footprint    927 non-null float64\n",
      "brown_energy        927 non-null float64\n",
      "green_energy        927 non-null float64\n",
      "acceptance_ratio    927 non-null float64\n",
      "migration_count     927 non-null int64\n",
      "ps_min              927 non-null float64\n",
      "ps_5th              927 non-null float64\n",
      "ps_mean             927 non-null float64\n",
      "ps_95th             927 non-null float64\n",
      "ps_max              927 non-null float64\n",
      "Optimizer           927 non-null object\n",
      "Arrival Rate        927 non-null object\n",
      "Carbon Footprint    927 non-null float64\n",
      "Renewable Energy    867 non-null float64\n",
      "dtypes: float64(11), int64(1), object(2)\n",
      "memory usage: 108.6+ KB\n"
     ]
    }
   ],
   "source": [
    "ar_df.info()"
   ]
  },
  {
   "cell_type": "code",
   "execution_count": 9,
   "metadata": {},
   "outputs": [],
   "source": [
    "ar_df.dropna(inplace=True)"
   ]
  },
  {
   "cell_type": "code",
   "execution_count": 10,
   "metadata": {
    "scrolled": true
   },
   "outputs": [
    {
     "name": "stdout",
     "output_type": "stream",
     "text": [
      "<class 'pandas.core.frame.DataFrame'>\n",
      "Int64Index: 867 entries, 1 to 29\n",
      "Data columns (total 14 columns):\n",
      "carbon_footprint    867 non-null float64\n",
      "brown_energy        867 non-null float64\n",
      "green_energy        867 non-null float64\n",
      "acceptance_ratio    867 non-null float64\n",
      "migration_count     867 non-null int64\n",
      "ps_min              867 non-null float64\n",
      "ps_5th              867 non-null float64\n",
      "ps_mean             867 non-null float64\n",
      "ps_95th             867 non-null float64\n",
      "ps_max              867 non-null float64\n",
      "Optimizer           867 non-null object\n",
      "Arrival Rate        867 non-null object\n",
      "Carbon Footprint    867 non-null float64\n",
      "Renewable Energy    867 non-null float64\n",
      "dtypes: float64(11), int64(1), object(2)\n",
      "memory usage: 101.6+ KB\n"
     ]
    }
   ],
   "source": [
    "ar_df.info()"
   ]
  },
  {
   "cell_type": "code",
   "execution_count": 11,
   "metadata": {},
   "outputs": [
    {
     "data": {
      "image/png": "[encoded data removed]",
      "text/plain": [
       "<Figure size 720x479.52 with 1 Axes>"
      ]
     },
     "metadata": {
      "needs_background": "light"
     },
     "output_type": "display_data"
    }
   ],
   "source": [
    "ax = sns.boxplot(x=\"Arrival Rate\", y=\"acceptance_ratio\", hue=\"Optimizer\", data=ar_df, palette=\"Set3\")"
   ]
  },
  {
   "cell_type": "code",
   "execution_count": 18,
   "metadata": {},
   "outputs": [
    {
     "data": {
      "image/png": "[encoded data removed]",
      "text/plain": [
       "<Figure size 720x479.52 with 1 Axes>"
      ]
     },
     "metadata": {
      "needs_background": "light"
     },
     "output_type": "display_data"
    }
   ],
   "source": [
    "ax = sns.boxplot(x=\"Arrival Rate\", y=\"carbon_footprint\", \n",
    "                 hue=\"Optimizer\", hue_order=['Optimal', 'Tabu Search', 'First Fit'], \n",
    "                 data=ar_df, color=\"0.5\")"
   ]
  },
  {
   "cell_type": "code",
   "execution_count": 20,
   "metadata": {},
   "outputs": [
    {
     "data": {
      "image/png": "[encoded data removed]",
      "text/plain": [
       "<Figure size 720x479.52 with 1 Axes>"
      ]
     },
     "metadata": {
      "needs_background": "light"
     },
     "output_type": "display_data"
    }
   ],
   "source": [
    "ax = sns.boxplot(x=\"Arrival Rate\", y=\"Renewable Energy\", \n",
    "                 hue=\"Optimizer\", hue_order=['Optimal', 'Tabu Search', 'First Fit'], \n",
    "                 data=ar_df, color=\"0.5\")\n",
    "#ax.set(ylabel='Carbon Footprint / acceptance_ratio')"
   ]
  },
  {
   "cell_type": "code",
   "execution_count": null,
   "metadata": {},
   "outputs": [],
   "source": []
  },
  {
   "cell_type": "code",
   "execution_count": null,
   "metadata": {},
   "outputs": [],
   "source": []
  }
 ],
 "metadata": {
  "kernelspec": {
   "display_name": "Python 3",
   "language": "python",
   "name": "python3"
  },
  "language_info": {
   "codemirror_mode": {
    "name": "ipython",
    "version": 3
   },
   "file_extension": ".py",
   "mimetype": "text/x-python",
   "name": "python",
   "nbconvert_exporter": "python",
   "pygments_lexer": "ipython3",
   "version": "3.5.2"
  }
 },
 "nbformat": 4,
 "nbformat_minor": 2
}
